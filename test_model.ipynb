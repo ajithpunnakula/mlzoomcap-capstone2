{
 "cells": [
  {
   "cell_type": "code",
   "execution_count": 11,
   "metadata": {},
   "outputs": [
    {
     "name": "stderr",
     "output_type": "stream",
     "text": [
      "WARNING:absl:Compiled the loaded model, but the compiled metrics have yet to be built. `model.compile_metrics` will be empty until you train or evaluate the model.\n"
     ]
    },
    {
     "name": "stdout",
     "output_type": "stream",
     "text": [
      "\u001b[1m1/1\u001b[0m \u001b[32m━━━━━━━━━━━━━━━━━━━━\u001b[0m\u001b[37m\u001b[0m \u001b[1m1s\u001b[0m 1s/step\n",
      "The predicted dog breed is: n02096437-Dandie_Dinmont\n"
     ]
    },
    {
     "name": "stderr",
     "output_type": "stream",
     "text": [
      "WARNING:absl:Compiled the loaded model, but the compiled metrics have yet to be built. `model.compile_metrics` will be empty until you train or evaluate the model.\n"
     ]
    },
    {
     "name": "stdout",
     "output_type": "stream",
     "text": [
      "\u001b[1m1/1\u001b[0m \u001b[32m━━━━━━━━━━━━━━━━━━━━\u001b[0m\u001b[37m\u001b[0m \u001b[1m1s\u001b[0m 1s/step\n",
      "The predicted dog breed is: n02099601-golden_retriever\n"
     ]
    }
   ],
   "source": [
    "import os\n",
    "import requests\n",
    "from PIL import Image\n",
    "from io import BytesIO\n",
    "import numpy as np\n",
    "from tensorflow.keras.preprocessing import image\n",
    "from tensorflow.keras.models import load_model\n",
    "\n",
    "\n",
    "# Load the class indices\n",
    "with open('class_indices.json', 'r') as f:\n",
    "    class_indices = json.load(f)\n",
    "class_labels = {v: k for k, v in class_indices.items()}\n",
    "\n",
    "\n",
    "def load_image_from_url(url, target_size=(150, 150)):\n",
    "    # Download the image\n",
    "    response = requests.get(url)\n",
    "    response.raise_for_status()  # Raise an error for bad responses\n",
    "\n",
    "    # Convert bytes data to PIL Image\n",
    "    img = Image.open(BytesIO(response.content))\n",
    "\n",
    "    # Resize to target size\n",
    "    img = img.resize(target_size)\n",
    "\n",
    "    # Convert to numpy array and scale pixel values\n",
    "    img_array = np.array(img)\n",
    "    img_array = np.expand_dims(img_array, axis=0)  # Add batch dimension\n",
    "    img_array = img_array / 255.0  # Normalize to [0, 1]\n",
    "\n",
    "    return img_array\n",
    "\n",
    "def load_image(img_path, target_size=(150, 150)):\n",
    "    # Load the image and resize it to the target size\n",
    "    img = image.load_img(img_path, target_size=target_size)\n",
    "    # Convert the image to an array\n",
    "    img_array = image.img_to_array(img)\n",
    "    # Expand dims to fit the model input format (batch size, height, width, channels)\n",
    "    img_array = np.expand_dims(img_array, axis=0)\n",
    "    # Normalize the image (same as used in training)\n",
    "    img_array /= 255.\n",
    "    return img_array\n",
    "\n",
    "def predict_dog_breed(img_path, model_path='MobileNetV2_best_model.h5'):\n",
    "    # Load MobileNetV2 best model weights\n",
    "    model = load_model(model_path)\n",
    "\n",
    "    # Load and preprocess the image\n",
    "    img_array = load_image(img_path)\n",
    "\n",
    "    # Perform prediction\n",
    "    predictions = model.predict(img_array)\n",
    "\n",
    "    # Get the index of the class with the highest probability\n",
    "    predicted_class_index = np.argmax(predictions, axis=1)[0]\n",
    "    return class_labels[predicted_class_index]\n",
    "\n",
    "def predict_dog_breed_from_url(url):\n",
    "    img_array = load_image_from_url(url)\n",
    "    # Load MobileNetV2 best model weights\n",
    "    model = load_model(model_path)\n",
    "    # Perform prediction\n",
    "    predictions = model.predict(img_array)\n",
    "    # Get the index of the class with the highest probability\n",
    "    predicted_class_index = np.argmax(predictions, axis=1)[0]\n",
    "    return class_labels[predicted_class_index]\n",
    "\n",
    "# Example usage of the function\n",
    "image_path = '/Users/apunnakula/AJ/mlzoomcap-capstone2/Hugsy2.jpg'  # Replace with your image path\n",
    "image_url = 'https://images.unsplash.com/photo-1507146426996-ef05306b995a'\n",
    "model_path = '/Users/apunnakula/AJ/mlzoomcap-capstone2/MobileNetV2_best_model.h5'\n",
    "predicted_breed = predict_dog_breed(image_path)\n",
    "print(f'The predicted dog breed is: {predicted_breed}')\n",
    "predicted_breed = predict_dog_breed_from_url(image_url)\n",
    "print(f'The predicted dog breed is: {predicted_breed}')\n"
   ]
  },
  {
   "cell_type": "code",
   "execution_count": null,
   "metadata": {},
   "outputs": [],
   "source": []
  }
 ],
 "metadata": {
  "kernelspec": {
   "display_name": "capstone2",
   "language": "python",
   "name": "python3"
  },
  "language_info": {
   "codemirror_mode": {
    "name": "ipython",
    "version": 3
   },
   "file_extension": ".py",
   "mimetype": "text/x-python",
   "name": "python",
   "nbconvert_exporter": "python",
   "pygments_lexer": "ipython3",
   "version": "3.11.10"
  }
 },
 "nbformat": 4,
 "nbformat_minor": 2
}
